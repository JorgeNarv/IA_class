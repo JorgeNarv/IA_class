{
  "nbformat": 4,
  "nbformat_minor": 0,
  "metadata": {
    "colab": {
      "provenance": [],
      "authorship_tag": "ABX9TyPPPZsUfGtPwOfK64p1ZTe3",
      "include_colab_link": true
    },
    "kernelspec": {
      "name": "python3",
      "display_name": "Python 3"
    },
    "language_info": {
      "name": "python"
    }
  },
  "cells": [
    {
      "cell_type": "markdown",
      "metadata": {
        "id": "view-in-github",
        "colab_type": "text"
      },
      "source": [
        "<a href=\"https://colab.research.google.com/github/JorgeNarv/IA_class/blob/main/PythonExercises_1.ipynb\" target=\"_parent\"><img src=\"https://colab.research.google.com/assets/colab-badge.svg\" alt=\"Open In Colab\"/></a>"
      ]
    },
    {
      "cell_type": "markdown",
      "source": [
        "Jorge Narváez Montemayor 1809944\n"
      ],
      "metadata": {
        "id": "1s1jQGf1aI78"
      }
    },
    {
      "cell_type": "code",
      "source": [
        "file = open(\"act1.txt\", encoding = \"utf-8\")\n",
        "text = file.read()\n",
        "print(text)\n",
        "print(\" \")\n",
        "\n",
        "words = text.split()\n",
        "\n",
        "n=0\n",
        "for i in text:\n",
        "  if i == \"\\n\": n += 1\n",
        "\n",
        "p = 0\n",
        "for i in text:\n",
        "  if i == \"\\n\\n\": p += 1\n",
        "\n",
        "s = 0\n",
        "for i in range(len(words)):\n",
        "\n",
        "\n",
        "print(\"número de lineas - \" + str(n +1))\n",
        "print(\"número de parrafos - \" + str(p +1))\n",
        "print(\"número de palabras - \" + str(len(words)))\n"
      ],
      "metadata": {
        "colab": {
          "base_uri": "https://localhost:8080/"
        },
        "id": "tAD39IjBfYYI",
        "outputId": "b660ab2f-0b1a-437d-b9c7-571d6d726223"
      },
      "execution_count": 2,
      "outputs": [
        {
          "output_type": "stream",
          "name": "stdout",
          "text": [
            "Where are you?\n",
            "Ohhhhh-ohhh (hehehe)\n",
            "Ohhhhh\n",
            "The Divine Feminine, an album by Mac Miller\n",
            "Ohhhhh-ohhh\n",
            "(The Divine Feminine, hehehe)\n",
            "(The Divine Feminine, hehehe)\n",
            "Ohhhh\n",
            "\n",
            "\n",
            "ññññ\n",
            " \n",
            "número de lineas - 11\n",
            "número de parrafos - 1\n",
            "número de palabras - 25\n",
            "['Where', 'are', 'you?', 'Ohhhhh-ohhh', '(hehehe)', 'Ohhhhh', 'The', 'Divine', 'Feminine,', 'an', 'album', 'by', 'Mac', 'Miller', 'Ohhhhh-ohhh', '(The', 'Divine', 'Feminine,', 'hehehe)', '(The', 'Divine', 'Feminine,', 'hehehe)', 'Ohhhh', 'ññññ']\n"
          ]
        }
      ]
    },
    {
      "cell_type": "code",
      "source": [
        "import numpy as np\n",
        "\n",
        "a = np.random.randint(1,100)\n",
        "\n",
        "guess = int(input(\"Give me a number - \"))\n",
        "\n",
        "while guess != a:\n",
        "  if guess < a:\n",
        "    print(\"Its higher. Try again\")\n",
        "    guess = int(input(\"Give me a number - \"))\n",
        "  if guess > a:\n",
        "    print(\"Its lower. Try again\")\n",
        "    guess = int(input(\"Give me a number - \"))\n",
        "\n",
        "if guess == a:\n",
        "  print(\"You did it! The number is \" + str(guess))"
      ],
      "metadata": {
        "colab": {
          "base_uri": "https://localhost:8080/"
        },
        "id": "52XhdjstsAXh",
        "outputId": "1212973e-2052-4e1c-8223-dc192855eff5"
      },
      "execution_count": 12,
      "outputs": [
        {
          "output_type": "stream",
          "name": "stdout",
          "text": [
            "Give me a number - 50\n",
            "Its higher. Try again\n",
            "Give me a number - 70\n",
            "Its lower. Try again\n",
            "Give me a number - 60\n",
            "Its lower. Try again\n",
            "Give me a number - 55\n",
            "Its lower. Try again\n",
            "Give me a number - 52\n",
            "You did it! The number is 52\n"
          ]
        }
      ]
    },
    {
      "cell_type": "code",
      "source": [],
      "metadata": {
        "id": "dSQ3hiKxYvWz"
      },
      "execution_count": null,
      "outputs": []
    },
    {
      "cell_type": "code",
      "source": [
        "import random\n",
        "\n",
        "DB =[\"andrea\", \"chiva\", \"itzel\", \"marie\", \"jorge\"]\n",
        "print(a)\n",
        "\n",
        "a = random.choice(DB)\n",
        "\n",
        "print(\"Try to find the word. You have 10 lifes\")\n",
        "print(\" \")\n",
        "print(\"The word have \" + str(len(a)) + \" letters\")\n",
        "print(\" \")\n",
        "\n",
        "b = str(input(\"Try a letter - \"))\n",
        "print(\" \")\n",
        "\n",
        "i = 10\n",
        "while b in a:\n",
        "  if b in a:\n",
        "    print(\"The letter is in the word!\")\n",
        "    print(\"You have \" + str(i) + \" lifes\")\n",
        "    print(\" \")\n",
        "    c = str(input(\"Do you wanna try a word? (Y / N) - \"))\n",
        "    print(\" \")\n",
        "\n",
        "    if c == \"Y\":\n",
        "      d = str(input(\"Try a word - \"))\n",
        "      if d == a:\n",
        "        print(\"You WIN!!\")\n",
        "        break\n",
        "      if d != a:\n",
        "        print(\"You Lose :(\")\n",
        "        break\n",
        "    if c == \"N\":\n",
        "      b = str(input(\"Try a letter - \"))\n",
        "      print(\" \")\n",
        "\n",
        "  if b not in a:\n",
        "    print(\"You lose 1 life, try again\")\n",
        "    print(\"You have \" + str(i) + \"lifes\")\n",
        "    print(\" \")\n",
        "    i = i-1\n",
        "    b = str(input(\"Try a letter - \"))\n",
        "\n",
        "  if i == 10:\n",
        "    print(\"You have no more tries\")\n",
        "    break\n",
        "\n",
        "g = str(input(\"Try a word - \"))\n",
        "print(\" \")\n",
        "\n",
        "if g == a:\n",
        "  print(\"You WIN!!\")\n",
        "if g != a:\n",
        "  print(\"You Lose :(\")\n",
        "\n"
      ],
      "metadata": {
        "colab": {
          "base_uri": "https://localhost:8080/"
        },
        "id": "usyyx_Lvw3KU",
        "outputId": "7891e338-aee8-4246-e82b-b894c16fbb1b"
      },
      "execution_count": null,
      "outputs": [
        {
          "output_type": "stream",
          "name": "stdout",
          "text": [
            "andrea\n",
            "Try to find the word. You have 10 lifes\n",
            " \n",
            "The word have 6 letters\n",
            " \n",
            "Try a letter - a\n",
            " \n",
            "The letter is in the word!\n",
            "You have 10 lifes\n",
            " \n",
            "Do you wanna try a word? (Y / N) - N\n",
            " \n",
            "Try a letter - d\n",
            " \n",
            "You have no more tries\n"
          ]
        }
      ]
    }
  ]
}